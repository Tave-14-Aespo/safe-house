{
  "nbformat": 4,
  "nbformat_minor": 0,
  "metadata": {
    "colab": {
      "provenance": []
    },
    "kernelspec": {
      "name": "python3",
      "display_name": "Python 3"
    },
    "language_info": {
      "name": "python"
    }
  },
  "cells": [
    {
      "cell_type": "markdown",
      "source": [
        "### 1. 데이터 불러오기\n",
        "\n",
        "\n",
        "\n"
      ],
      "metadata": {
        "id": "ynkmdnDrqkx0"
      }
    },
    {
      "cell_type": "code",
      "execution_count": 34,
      "metadata": {
        "colab": {
          "base_uri": "https://localhost:8080/"
        },
        "id": "HDC2mWLBpXQy",
        "outputId": "a8ba7730-fb08-4989-9397-1197c757c032"
      },
      "outputs": [
        {
          "output_type": "stream",
          "name": "stdout",
          "text": [
            "Drive already mounted at /content/drive; to attempt to forcibly remount, call drive.mount(\"/content/drive\", force_remount=True).\n"
          ]
        }
      ],
      "source": [
        "from google.colab import drive\n",
        "drive.mount('/content/drive')"
      ]
    },
    {
      "cell_type": "code",
      "source": [
        "#데이터 불러오기(cctv)\n",
        "import pandas as pd\n",
        "cctv = pd.read_csv('/content/drive/MyDrive/CCTV.csv', encoding='cp949')\n",
        "print(cctv.head())"
      ],
      "metadata": {
        "colab": {
          "base_uri": "https://localhost:8080/"
        },
        "id": "x-tyGE5pq0bj",
        "outputId": "3fb9c864-1993-49a7-fc66-76ef61699efa"
      },
      "execution_count": 2,
      "outputs": [
        {
          "output_type": "stream",
          "name": "stdout",
          "text": [
            "   번호       관리기관명              소재지도로명주소           소재지지번주소 설치목적구분  카메라대수  \\\n",
            "0   1  서울특별시 성동구청          서울특별시 마조로 11   서울특별시 행당동 19-98   교통단속      3   \n",
            "1   2  서울특별시 성동구청  서울특별시 고산자로 330 (마장동)  서울특별시 마장동 520-10   교통단속      2   \n",
            "2   3  서울특별시 성동구청       서울특별시 마장로35길 76     서울특별시 마장동 818   교통단속      3   \n",
            "3   4  서울특별시 성동구청   서울특별시 마장로 325 (마장동)  서울특별시 마장동 767-41   교통단속      3   \n",
            "4   5  서울특별시 성동구청   서울특별시 마장로 322 (마장동)   서울특별시 마장동 781-1   교통단속      2   \n",
            "\n",
            "   카메라화소수   촬영방면정보  보관일수     설치연월      관리기관전화번호         위도          경도  \\\n",
            "0     200  360도전방면    30  2013-11  02-2286-5878  37.558960  127.040794   \n",
            "1     200  360도전방면    30  2013-11  02-2286-5878  37.569137  127.037521   \n",
            "2     200  360도전방면    30  2013-11  02-2286-5878  37.570602  127.042519   \n",
            "3     200  360도전방면    30  2017-11  02-2286-5878  37.567585  127.044815   \n",
            "4     200  360도전방면    30  2017-11  02-2286-5878  37.566624  127.043945   \n",
            "\n",
            "      데이터기준일자  \n",
            "0  2022-06-24  \n",
            "1  2022-06-24  \n",
            "2  2022-06-24  \n",
            "3  2022-06-24  \n",
            "4  2022-06-24  \n"
          ]
        }
      ]
    },
    {
      "cell_type": "code",
      "source": [
        "#데이터 불러오기(버스정류장)\n",
        "import pandas as pd\n",
        "bus = pd.read_csv('/content/drive/MyDrive/버스정류장.csv', encoding='cp949')\n",
        "print(bus)"
      ],
      "metadata": {
        "id": "TUOkbnnSth5i",
        "colab": {
          "base_uri": "https://localhost:8080/"
        },
        "outputId": "10d84401-13de-453f-8ab8-9fc58c91179b"
      },
      "execution_count": 3,
      "outputs": [
        {
          "output_type": "stream",
          "name": "stdout",
          "text": [
            "             정류장번호             정류장명         위도          경도  모바일단축번호\n",
            "0     GGB109000013  도봉구민회관.도봉문화원(중)  37.654450  127.038067    10013\n",
            "1     GGB109000014  도봉구민회관.도봉문화원(중)  37.654117  127.038033    10014\n",
            "2     GGB109000015           쌍문역(중)  37.648833  127.034750    10015\n",
            "3     GGB109000016           쌍문역(중)  37.648133  127.034500    10016\n",
            "4     GGB109000017         우이1교앞(중)  37.645150  127.032550    10017\n",
            "...            ...              ...        ...         ...      ...\n",
            "2370  GGB120000146         구로디지털단지역  37.483767  126.902867    21248\n",
            "2371  GGB120000150           서울대입구역  37.480083  126.952717    21252\n",
            "2372  GGB120000152           구암초등학교  37.489233  126.946117    21254\n",
            "2373  GGB120000153  은천동벽산블루밍아파트105동  37.489417  126.945867    21255\n",
            "2374  GGB120000157             현대시장  37.487717  126.946583    21259\n",
            "\n",
            "[2375 rows x 5 columns]\n"
          ]
        }
      ]
    },
    {
      "cell_type": "code",
      "source": [
        "#데이터 불러오기(가로등)\n",
        "import pandas as pd\n",
        "light = pd.read_csv('/content/drive/MyDrive/가로등.csv',encoding='cp949')\n",
        "print(light)"
      ],
      "metadata": {
        "colab": {
          "base_uri": "https://localhost:8080/"
        },
        "id": "ym-y8VBvvk7w",
        "outputId": "10a6849f-f108-48bc-a34c-58a381df018b"
      },
      "execution_count": 4,
      "outputs": [
        {
          "output_type": "stream",
          "name": "stdout",
          "text": [
            "             관리번호         위도          경도\n",
            "0       가락지하차도-01  37.495254  127.107417\n",
            "1       가락지하차도-02  37.495354  127.107755\n",
            "2       가락지하차도-03  37.495443  127.108073\n",
            "3       가락지하차도-04  37.495551  127.108410\n",
            "4       가락지하차도-05  37.495654  127.108736\n",
            "...           ...        ...         ...\n",
            "19311  행주IC_05-62  37.593488  126.803334\n",
            "19312  행주IC_05-63  37.593653  126.803000\n",
            "19313  행주IC_05-64  37.593805  126.802595\n",
            "19314  행주IC_05-65  37.593860  126.802213\n",
            "19315  행주IC_05-66  37.593994  126.801866\n",
            "\n",
            "[19316 rows x 3 columns]\n"
          ]
        }
      ]
    },
    {
      "cell_type": "code",
      "source": [
        "#데이터 불러오기(초중등학교)\n",
        "import pandas as pd\n",
        "school = pd.read_csv('/content/drive/MyDrive/초중등학교.csv', encoding = 'utf-8-sig')\n",
        "print(school)"
      ],
      "metadata": {
        "colab": {
          "base_uri": "https://localhost:8080/"
        },
        "id": "F0N3YGfFxbP3",
        "outputId": "3ef30dde-d02d-424d-8f75-3c81ebed70cd"
      },
      "execution_count": 5,
      "outputs": [
        {
          "output_type": "stream",
          "name": "stdout",
          "text": [
            "             학교명               소재지지번주소              소재지도로명주소         위도  \\\n",
            "0          미성중학교  서울특별시 관악구 신림동 745-24   서울특별시 관악구 문성로16길 40  37.475383   \n",
            "1          장충중학교  서울특별시 중구 신당동 432-460    서울특별시 중구 동호로15길 93  37.553515   \n",
            "2     선정국제관광고등학교   서울특별시 은평구 갈현동 227-5  서울특별시 은평구 서오릉로20길 19  37.618705   \n",
            "3         영훈초등학교   서울특별시 강북구 미아동 471-2  서울특별시 강북구 도봉로13가길 19  37.614682   \n",
            "4          대왕중학교     서울특별시 강남구 수서동 750    서울특별시 강남구 광평로20길 7  37.483460   \n",
            "...          ...                   ...                   ...        ...   \n",
            "1304    서울응암초등학교     서울특별시 은평구 응암동 340    서울특별시 은평구 가좌로6길 20  37.588753   \n",
            "1305    서울항동초등학교      서울특별시 구로구 항동 160     서울특별시 구로구 연동로 178  37.477016   \n",
            "1306    서울가락초등학교     서울특별시 송파구 가락동 477  서울특별시 송파구 송파대로37길 45  37.500021   \n",
            "1307   서울하늘숲초등학교   서울특별시 구로구 천왕동 산13-1    서울특별시 구로구 오리로 1106  37.484181   \n",
            "1308    서울고일초등학교     서울특별시 강동구 상일동 125  서울특별시 강동구 구천면로93길 20  37.551543   \n",
            "\n",
            "              경도  \n",
            "0     126.912089  \n",
            "1     127.006415  \n",
            "2     126.909032  \n",
            "3     127.028093  \n",
            "4     127.087338  \n",
            "...          ...  \n",
            "1304  126.921616  \n",
            "1305  126.824110  \n",
            "1306  127.107642  \n",
            "1307  126.841652  \n",
            "1308  127.169410  \n",
            "\n",
            "[1309 rows x 5 columns]\n"
          ]
        }
      ]
    },
    {
      "cell_type": "code",
      "source": [
        "#데이터 불러오기(오피스텔)\n",
        "import pandas as pd\n",
        "office = pd.read_csv('/content/drive/MyDrive/오피스텔 매물.csv', encoding = 'utf-8-sig')\n",
        "print(office)"
      ],
      "metadata": {
        "colab": {
          "base_uri": "https://localhost:8080/"
        },
        "id": "WC4vt_6Y0K4j",
        "outputId": "9b5911e3-26c5-4b4a-df82-12e3f28c55a6"
      },
      "execution_count": 6,
      "outputs": [
        {
          "output_type": "stream",
          "name": "stdout",
          "text": [
            "         NO              시군구       번지   본번   부번           단지명 전월세구분  전용면적(㎡)  \\\n",
            "0         1    서울특별시 광진구 화양동    18-12   18   12        광진청년생활    월세    29.52   \n",
            "1         5   서울특별시 동대문구 전농동    620-4  620    4  청량리 창보 리버리치2    월세    19.74   \n",
            "2         9    서울특별시 종로구 숭인동   217-16  217   16     블루카운티 숭인Ⅰ    전세    26.97   \n",
            "3        10    서울특별시 종로구 효제동    193-1  193    1          BS타워    월세    19.83   \n",
            "4        11  서울특별시 성동구 성수동2가   277-37  277   37     성원상떼뷰오피스텔    전세    24.84   \n",
            "...     ...              ...      ...  ...  ...           ...   ...      ...   \n",
            "3776  74432    서울특별시 은평구 불광동   281-72  281   72         세아오피스    월세    22.58   \n",
            "3777  74433    서울특별시 은평구 불광동  281-141  281  141        두진 아이브    전세    47.47   \n",
            "3778  74464    서울특별시 마포구 신수동    81-43   81   43    에버 오피스텔 A동    월세    24.56   \n",
            "3779  74654  서울특별시 용산구 원효로2가        1    1    0            -1    월세    21.45   \n",
            "3780  74679   서울특별시 동대문구 이문동    82-21   82   21         리원하우스    월세    20.75   \n",
            "\n",
            "        계약년월  계약일 보증금(만원)  월세금(만원)   층  건축년도         도로명           계약기간 계약구분  \\\n",
            "0     202412   26     100       37  17  2024   동일로30길 31  202412~202703   신규   \n",
            "1     202412   26   1,000       90   5  2021     왕산로 192  202412~202512   신규   \n",
            "2     202412   26  23,000        0   5  2020    종로62길 23  202501~202701   신규   \n",
            "3     202412   26  17,000       10   6  2019    종로35길 12  202502~202702   신규   \n",
            "4     202412   26  14,200        0   5  2003  아차산로15길 10  202501~202701   갱신   \n",
            "...      ...  ...     ...      ...  ..   ...         ...            ...  ...   \n",
            "3776  202312   30   2,000       65   3  2023    불광로 42-3  202401~202501   신규   \n",
            "3777  202312   30  27,000        0   3  2015  통일로66길 6-7  202402~202602   신규   \n",
            "3778  202312   30   4,000       30   4  2003    백범로 28-5              -    -   \n",
            "3779  202312   29   8,500       30   8  1990     원효로 211  202312~202512   신규   \n",
            "3780  202312   29   1,000       46   4  2019   휘경로 29-10  202402~202502   신규   \n",
            "\n",
            "     갱신요구권 사용 종전계약 보증금(만원)  종전계약 월세(만원)  \n",
            "0           -          NaN          NaN  \n",
            "1           -          NaN          NaN  \n",
            "2           -          NaN          NaN  \n",
            "3           -          NaN          NaN  \n",
            "4           -       13,800          0.0  \n",
            "...       ...          ...          ...  \n",
            "3776        -          NaN          NaN  \n",
            "3777        -          NaN          NaN  \n",
            "3778        -          NaN          NaN  \n",
            "3779        -          NaN          NaN  \n",
            "3780        -          NaN          NaN  \n",
            "\n",
            "[3781 rows x 20 columns]\n"
          ]
        }
      ]
    },
    {
      "cell_type": "markdown",
      "source": [
        "### 2. 데이터 전처리"
      ],
      "metadata": {
        "id": "5Be0nCmHv3C7"
      }
    },
    {
      "cell_type": "code",
      "source": [
        "#필요없는 열 삭제\n",
        "cctv = cctv.filter(items=['관리기관명','소재지도로명주소','소재지지번주소','카메라대수','위도','경도'])\n",
        "print(cctv)"
      ],
      "metadata": {
        "colab": {
          "base_uri": "https://localhost:8080/"
        },
        "id": "c0WvdtOjr9lB",
        "outputId": "99a5d4d5-c5c1-43df-f278-a9f0c73f9953"
      },
      "execution_count": 7,
      "outputs": [
        {
          "output_type": "stream",
          "name": "stdout",
          "text": [
            "            관리기관명                 소재지도로명주소            소재지지번주소  카메라대수  \\\n",
            "0      서울특별시 성동구청             서울특별시 마조로 11    서울특별시 행당동 19-98      3   \n",
            "1      서울특별시 성동구청     서울특별시 고산자로 330 (마장동)   서울특별시 마장동 520-10      2   \n",
            "2      서울특별시 성동구청          서울특별시 마장로35길 76      서울특별시 마장동 818      3   \n",
            "3      서울특별시 성동구청      서울특별시 마장로 325 (마장동)   서울특별시 마장동 767-41      3   \n",
            "4      서울특별시 성동구청      서울특별시 마장로 322 (마장동)    서울특별시 마장동 781-1      2   \n",
            "...           ...                      ...                ...    ...   \n",
            "50475  서울특별시 구로구청     서울특별시 구로구 구로동로12길 70   서울특별시 구로구 742-40      4   \n",
            "50476  서울특별시 구로구청    서울특별시 구로구 구로동로 22길 74    서울특별시 구로구 752-5      4   \n",
            "50477  서울특별시 구로구청  서울특별시 구로구 구로동로 18길 62-8   서울특별시 구로구 748-15      2   \n",
            "50478  서울특별시 구로구청      서울특별시 구로구 도림로17길 26  서울특별시 구로구 313-100      3   \n",
            "50479  서울특별시 구로구청    서울특별시 구로구 구로중앙로34길 71   서울특별시 구로구 552-92      5   \n",
            "\n",
            "              위도          경도  \n",
            "0      37.558960  127.040794  \n",
            "1      37.569137  127.037521  \n",
            "2      37.570602  127.042519  \n",
            "3      37.567585  127.044815  \n",
            "4      37.566624  127.043945  \n",
            "...          ...         ...  \n",
            "50475  37.489648  126.887254  \n",
            "50476  37.488723  126.888296  \n",
            "50477  37.486962  126.887539  \n",
            "50478  37.489702  126.890129  \n",
            "50479  37.501762  126.886727  \n",
            "\n",
            "[50480 rows x 6 columns]\n"
          ]
        }
      ]
    },
    {
      "cell_type": "code",
      "source": [
        "#필요없는 열 삭제\n",
        "office = office.filter(items=['NO','시군구','도로명'])\n",
        "print(office)"
      ],
      "metadata": {
        "colab": {
          "base_uri": "https://localhost:8080/"
        },
        "id": "puyRPbX2xGIE",
        "outputId": "d716885c-5383-4289-f317-8f9c3ba89db5"
      },
      "execution_count": 8,
      "outputs": [
        {
          "output_type": "stream",
          "name": "stdout",
          "text": [
            "         NO              시군구         도로명\n",
            "0         1    서울특별시 광진구 화양동   동일로30길 31\n",
            "1         5   서울특별시 동대문구 전농동     왕산로 192\n",
            "2         9    서울특별시 종로구 숭인동    종로62길 23\n",
            "3        10    서울특별시 종로구 효제동    종로35길 12\n",
            "4        11  서울특별시 성동구 성수동2가  아차산로15길 10\n",
            "...     ...              ...         ...\n",
            "3776  74432    서울특별시 은평구 불광동    불광로 42-3\n",
            "3777  74433    서울특별시 은평구 불광동  통일로66길 6-7\n",
            "3778  74464    서울특별시 마포구 신수동    백범로 28-5\n",
            "3779  74654  서울특별시 용산구 원효로2가     원효로 211\n",
            "3780  74679   서울특별시 동대문구 이문동   휘경로 29-10\n",
            "\n",
            "[3781 rows x 3 columns]\n"
          ]
        }
      ]
    },
    {
      "cell_type": "code",
      "source": [
        "#오피스텔 데이터 도로명 주소->좌표변환\n",
        "\n",
        "import pandas as pd\n",
        "import requests\n",
        "import json\n",
        "\n",
        "# 카카오 API를 사용하여 주소 -> 좌표 변환 함수\n",
        "def get_location(address):\n",
        "    url = 'https://dapi.kakao.com/v2/local/search/address.json?query=' + address\n",
        "    headers = {\"Authorization\": \"KakaoAK 162c7473d8d38b7454be72d06227c98b\"}  # REST API 키 입력\n",
        "    response = requests.get(url, headers=headers)\n",
        "    api_json = json.loads(response.text)\n",
        "\n",
        "    # 검색 결과가 없을 경우 처리\n",
        "    if not api_json['documents']:\n",
        "        return None  # 결과 없음 처리\n",
        "\n",
        "    address_info = api_json['documents'][0]['address']\n",
        "    # 위도와 경도를 딕셔너리 형태로 반환\n",
        "    return {\"lat\": address_info['y'], \"lng\": address_info['x']}"
      ],
      "metadata": {
        "id": "ZksRzGfP2LrH"
      },
      "execution_count": 9,
      "outputs": []
    },
    {
      "cell_type": "code",
      "source": [
        "# 위도를 구해서 '위도' 열에 추가\n",
        "def add_coordinates(row):\n",
        "    coords = get_location(row['도로명'])  # A 열의 주소를 입력\n",
        "    if coords:\n",
        "        return f\"{coords['lat']}\"  # 위도를 문자열로 저장\n",
        "    else:\n",
        "        return \"No results\"  # 결과가 없을 경우\n",
        "\n",
        "office['위도'] = office.apply(add_coordinates, axis=1)  # 좌표를 구해 '위도' 열에 저장\n",
        "\n",
        "# 경도를 구해서 '경도' 열에 추가\n",
        "def add_coordinates(row):\n",
        "    coords = get_location(row['도로명'])  # A 열의 주소를 입력\n",
        "    if coords:\n",
        "        return f\"{coords['lng']}\"  # 경도를 문자열로 저장\n",
        "    else:\n",
        "        return \"No results\"  # 결과가 없을 경우\n",
        "\n",
        "office['경도'] = office.apply(add_coordinates, axis=1)  # 좌표를 구해 '경도' 열에 저장\n",
        "\n",
        "# 결과 출력\n",
        "print(office)"
      ],
      "metadata": {
        "id": "W31RspRZ2hq7"
      },
      "execution_count": null,
      "outputs": []
    },
    {
      "cell_type": "code",
      "source": [
        "office.to_csv('오피스텔 매물_좌표 추가.csv', index=False, encoding='utf-8-sig')"
      ],
      "metadata": {
        "id": "g5Xvk4fTyHel"
      },
      "execution_count": null,
      "outputs": []
    },
    {
      "cell_type": "markdown",
      "source": [
        "### 3. 오피스텔 반경 50M 내 개수 출력"
      ],
      "metadata": {
        "id": "ig3a8Hmo0ITY"
      }
    },
    {
      "cell_type": "code",
      "source": [
        "#데이터 불러오기(오피스텔)\n",
        "import pandas as pd\n",
        "officetel = pd.read_csv('/content/drive/MyDrive/오피스텔ex.csv', encoding = 'cp949')\n",
        "print(officetel)"
      ],
      "metadata": {
        "colab": {
          "base_uri": "https://localhost:8080/"
        },
        "id": "5vgrdBjb5JaD",
        "outputId": "b040e1ee-4dcb-40ec-af5c-94625c1365d6"
      },
      "execution_count": 35,
      "outputs": [
        {
          "output_type": "stream",
          "name": "stdout",
          "text": [
            "      NO           단지명          도로명                    지번주소         위도  \\\n",
            "0      0        광진청년생활    동일로30길 31     서울특별시 광진구 화양동 18-12  37.547678   \n",
            "1      1  청량리 창보 리버리치2      왕산로 192    서울특별시 동대문구 전농동 620-4  37.579581   \n",
            "2      2     블루카운티 숭인Ⅰ     종로62길 23    서울특별시 종로구 숭인동 217-16  37.572843   \n",
            "3      3          BS타워     종로35길 12     서울특별시 종로구 효제동 193-1  37.571758   \n",
            "4      4     성원상떼뷰오피스텔   아차산로15길 10  서울특별시 성동구 성수동2가 277-37  37.543696   \n",
            "..   ...           ...          ...                     ...        ...   \n",
            "96    96   제이클래스목동주상복합      오목로 147     서울특별시 양천구 신정동 922-1  37.524976   \n",
            "97    97   마곡보타닉투웨니퍼스트    양천로47길 12     서울특별시 강서구 가양동 257-1  37.571021   \n",
            "98    98       강동 와이시티  천호대로175길 42      서울특별시 강동구 길동 414-4  37.536490   \n",
            "99    99       에스아이팰리스   진황도로27길 23    서울특별시 강동구 천호동 167-73  37.539485   \n",
            "100  100           비바체   올림픽로62길 29      서울특별시 강동구 성내동 43-6  37.536568   \n",
            "\n",
            "             경도  \n",
            "0    127.069085  \n",
            "1    127.044612  \n",
            "2    127.019649  \n",
            "3    127.004086  \n",
            "4    127.062516  \n",
            "..          ...  \n",
            "96   126.853632  \n",
            "97   126.838334  \n",
            "98   127.137446  \n",
            "99   127.131830  \n",
            "100  127.124520  \n",
            "\n",
            "[101 rows x 6 columns]\n"
          ]
        }
      ]
    },
    {
      "cell_type": "code",
      "source": [
        "#필요 라이브러리 임포트\n",
        "import pandas as pd\n",
        "from geopy.distance import geodesic"
      ],
      "metadata": {
        "id": "jfiULLkp3Ifk"
      },
      "execution_count": 36,
      "outputs": []
    },
    {
      "cell_type": "code",
      "source": [
        "# 반경 50m 이내의 CCTV 개수 계산 함수\n",
        "def count_cctvs_within_radius(officetel_row, cctvs, radius=50):\n",
        "    officetel_location = (officetel_row['위도'], officetel_row['경도'])\n",
        "    count = 0\n",
        "    for _, cctv_row in cctvs.iterrows():\n",
        "        cctv_location = (cctv_row['위도'], cctv_row['경도'])\n",
        "        distance = geodesic(officetel_location, cctv_location).meters\n",
        "        if distance <= radius:\n",
        "            count += 1\n",
        "    return count"
      ],
      "metadata": {
        "id": "an-r9Nf65_ra"
      },
      "execution_count": 37,
      "outputs": []
    },
    {
      "cell_type": "code",
      "source": [
        "# 각 오피스텔에 대해 CCTV 개수 계산\n",
        "officetel['cctv_count'] = officetel.apply(lambda row: count_cctvs_within_radius(row, cctv), axis=1)\n",
        "\n",
        "print(officetel)"
      ],
      "metadata": {
        "colab": {
          "base_uri": "https://localhost:8080/",
          "height": 360
        },
        "id": "sNwBdBu37D-l",
        "outputId": "724191d8-f2d5-4bd2-ddc2-57ddfec3d9b6"
      },
      "execution_count": 38,
      "outputs": [
        {
          "output_type": "error",
          "ename": "KeyboardInterrupt",
          "evalue": "",
          "traceback": [
            "\u001b[0;31m---------------------------------------------------------------------------\u001b[0m",
            "\u001b[0;31mKeyboardInterrupt\u001b[0m                         Traceback (most recent call last)",
            "\u001b[0;32m<ipython-input-38-7253f0eda7e7>\u001b[0m in \u001b[0;36m<cell line: 2>\u001b[0;34m()\u001b[0m\n\u001b[1;32m      1\u001b[0m \u001b[0;31m# 각 오피스텔에 대해 CCTV 개수 계산\u001b[0m\u001b[0;34m\u001b[0m\u001b[0;34m\u001b[0m\u001b[0m\n\u001b[0;32m----> 2\u001b[0;31m \u001b[0mofficetel\u001b[0m\u001b[0;34m[\u001b[0m\u001b[0;34m'cctv_count'\u001b[0m\u001b[0;34m]\u001b[0m \u001b[0;34m=\u001b[0m \u001b[0mofficetel\u001b[0m\u001b[0;34m.\u001b[0m\u001b[0mapply\u001b[0m\u001b[0;34m(\u001b[0m\u001b[0;32mlambda\u001b[0m \u001b[0mrow\u001b[0m\u001b[0;34m:\u001b[0m \u001b[0mcount_cctvs_within_radius\u001b[0m\u001b[0;34m(\u001b[0m\u001b[0mrow\u001b[0m\u001b[0;34m,\u001b[0m \u001b[0mcctv\u001b[0m\u001b[0;34m)\u001b[0m\u001b[0;34m,\u001b[0m \u001b[0maxis\u001b[0m\u001b[0;34m=\u001b[0m\u001b[0;36m1\u001b[0m\u001b[0;34m)\u001b[0m\u001b[0;34m\u001b[0m\u001b[0;34m\u001b[0m\u001b[0m\n\u001b[0m\u001b[1;32m      3\u001b[0m \u001b[0;34m\u001b[0m\u001b[0m\n\u001b[1;32m      4\u001b[0m \u001b[0mprint\u001b[0m\u001b[0;34m(\u001b[0m\u001b[0mofficetel\u001b[0m\u001b[0;34m)\u001b[0m\u001b[0;34m\u001b[0m\u001b[0;34m\u001b[0m\u001b[0m\n",
            "\u001b[0;32m/usr/local/lib/python3.10/dist-packages/pandas/core/frame.py\u001b[0m in \u001b[0;36mapply\u001b[0;34m(self, func, axis, raw, result_type, args, by_row, engine, engine_kwargs, **kwargs)\u001b[0m\n\u001b[1;32m  10372\u001b[0m             \u001b[0mkwargs\u001b[0m\u001b[0;34m=\u001b[0m\u001b[0mkwargs\u001b[0m\u001b[0;34m,\u001b[0m\u001b[0;34m\u001b[0m\u001b[0;34m\u001b[0m\u001b[0m\n\u001b[1;32m  10373\u001b[0m         )\n\u001b[0;32m> 10374\u001b[0;31m         \u001b[0;32mreturn\u001b[0m \u001b[0mop\u001b[0m\u001b[0;34m.\u001b[0m\u001b[0mapply\u001b[0m\u001b[0;34m(\u001b[0m\u001b[0;34m)\u001b[0m\u001b[0;34m.\u001b[0m\u001b[0m__finalize__\u001b[0m\u001b[0;34m(\u001b[0m\u001b[0mself\u001b[0m\u001b[0;34m,\u001b[0m \u001b[0mmethod\u001b[0m\u001b[0;34m=\u001b[0m\u001b[0;34m\"apply\"\u001b[0m\u001b[0;34m)\u001b[0m\u001b[0;34m\u001b[0m\u001b[0;34m\u001b[0m\u001b[0m\n\u001b[0m\u001b[1;32m  10375\u001b[0m \u001b[0;34m\u001b[0m\u001b[0m\n\u001b[1;32m  10376\u001b[0m     def map(\n",
            "\u001b[0;32m/usr/local/lib/python3.10/dist-packages/pandas/core/apply.py\u001b[0m in \u001b[0;36mapply\u001b[0;34m(self)\u001b[0m\n\u001b[1;32m    914\u001b[0m             \u001b[0;32mreturn\u001b[0m \u001b[0mself\u001b[0m\u001b[0;34m.\u001b[0m\u001b[0mapply_raw\u001b[0m\u001b[0;34m(\u001b[0m\u001b[0mengine\u001b[0m\u001b[0;34m=\u001b[0m\u001b[0mself\u001b[0m\u001b[0;34m.\u001b[0m\u001b[0mengine\u001b[0m\u001b[0;34m,\u001b[0m \u001b[0mengine_kwargs\u001b[0m\u001b[0;34m=\u001b[0m\u001b[0mself\u001b[0m\u001b[0;34m.\u001b[0m\u001b[0mengine_kwargs\u001b[0m\u001b[0;34m)\u001b[0m\u001b[0;34m\u001b[0m\u001b[0;34m\u001b[0m\u001b[0m\n\u001b[1;32m    915\u001b[0m \u001b[0;34m\u001b[0m\u001b[0m\n\u001b[0;32m--> 916\u001b[0;31m         \u001b[0;32mreturn\u001b[0m \u001b[0mself\u001b[0m\u001b[0;34m.\u001b[0m\u001b[0mapply_standard\u001b[0m\u001b[0;34m(\u001b[0m\u001b[0;34m)\u001b[0m\u001b[0;34m\u001b[0m\u001b[0;34m\u001b[0m\u001b[0m\n\u001b[0m\u001b[1;32m    917\u001b[0m \u001b[0;34m\u001b[0m\u001b[0m\n\u001b[1;32m    918\u001b[0m     \u001b[0;32mdef\u001b[0m \u001b[0magg\u001b[0m\u001b[0;34m(\u001b[0m\u001b[0mself\u001b[0m\u001b[0;34m)\u001b[0m\u001b[0;34m:\u001b[0m\u001b[0;34m\u001b[0m\u001b[0;34m\u001b[0m\u001b[0m\n",
            "\u001b[0;32m/usr/local/lib/python3.10/dist-packages/pandas/core/apply.py\u001b[0m in \u001b[0;36mapply_standard\u001b[0;34m(self)\u001b[0m\n\u001b[1;32m   1061\u001b[0m     \u001b[0;32mdef\u001b[0m \u001b[0mapply_standard\u001b[0m\u001b[0;34m(\u001b[0m\u001b[0mself\u001b[0m\u001b[0;34m)\u001b[0m\u001b[0;34m:\u001b[0m\u001b[0;34m\u001b[0m\u001b[0;34m\u001b[0m\u001b[0m\n\u001b[1;32m   1062\u001b[0m         \u001b[0;32mif\u001b[0m \u001b[0mself\u001b[0m\u001b[0;34m.\u001b[0m\u001b[0mengine\u001b[0m \u001b[0;34m==\u001b[0m \u001b[0;34m\"python\"\u001b[0m\u001b[0;34m:\u001b[0m\u001b[0;34m\u001b[0m\u001b[0;34m\u001b[0m\u001b[0m\n\u001b[0;32m-> 1063\u001b[0;31m             \u001b[0mresults\u001b[0m\u001b[0;34m,\u001b[0m \u001b[0mres_index\u001b[0m \u001b[0;34m=\u001b[0m \u001b[0mself\u001b[0m\u001b[0;34m.\u001b[0m\u001b[0mapply_series_generator\u001b[0m\u001b[0;34m(\u001b[0m\u001b[0;34m)\u001b[0m\u001b[0;34m\u001b[0m\u001b[0;34m\u001b[0m\u001b[0m\n\u001b[0m\u001b[1;32m   1064\u001b[0m         \u001b[0;32melse\u001b[0m\u001b[0;34m:\u001b[0m\u001b[0;34m\u001b[0m\u001b[0;34m\u001b[0m\u001b[0m\n\u001b[1;32m   1065\u001b[0m             \u001b[0mresults\u001b[0m\u001b[0;34m,\u001b[0m \u001b[0mres_index\u001b[0m \u001b[0;34m=\u001b[0m \u001b[0mself\u001b[0m\u001b[0;34m.\u001b[0m\u001b[0mapply_series_numba\u001b[0m\u001b[0;34m(\u001b[0m\u001b[0;34m)\u001b[0m\u001b[0;34m\u001b[0m\u001b[0;34m\u001b[0m\u001b[0m\n",
            "\u001b[0;32m/usr/local/lib/python3.10/dist-packages/pandas/core/apply.py\u001b[0m in \u001b[0;36mapply_series_generator\u001b[0;34m(self)\u001b[0m\n\u001b[1;32m   1079\u001b[0m             \u001b[0;32mfor\u001b[0m \u001b[0mi\u001b[0m\u001b[0;34m,\u001b[0m \u001b[0mv\u001b[0m \u001b[0;32min\u001b[0m \u001b[0menumerate\u001b[0m\u001b[0;34m(\u001b[0m\u001b[0mseries_gen\u001b[0m\u001b[0;34m)\u001b[0m\u001b[0;34m:\u001b[0m\u001b[0;34m\u001b[0m\u001b[0;34m\u001b[0m\u001b[0m\n\u001b[1;32m   1080\u001b[0m                 \u001b[0;31m# ignore SettingWithCopy here in case the user mutates\u001b[0m\u001b[0;34m\u001b[0m\u001b[0;34m\u001b[0m\u001b[0m\n\u001b[0;32m-> 1081\u001b[0;31m                 \u001b[0mresults\u001b[0m\u001b[0;34m[\u001b[0m\u001b[0mi\u001b[0m\u001b[0;34m]\u001b[0m \u001b[0;34m=\u001b[0m \u001b[0mself\u001b[0m\u001b[0;34m.\u001b[0m\u001b[0mfunc\u001b[0m\u001b[0;34m(\u001b[0m\u001b[0mv\u001b[0m\u001b[0;34m,\u001b[0m \u001b[0;34m*\u001b[0m\u001b[0mself\u001b[0m\u001b[0;34m.\u001b[0m\u001b[0margs\u001b[0m\u001b[0;34m,\u001b[0m \u001b[0;34m**\u001b[0m\u001b[0mself\u001b[0m\u001b[0;34m.\u001b[0m\u001b[0mkwargs\u001b[0m\u001b[0;34m)\u001b[0m\u001b[0;34m\u001b[0m\u001b[0;34m\u001b[0m\u001b[0m\n\u001b[0m\u001b[1;32m   1082\u001b[0m                 \u001b[0;32mif\u001b[0m \u001b[0misinstance\u001b[0m\u001b[0;34m(\u001b[0m\u001b[0mresults\u001b[0m\u001b[0;34m[\u001b[0m\u001b[0mi\u001b[0m\u001b[0;34m]\u001b[0m\u001b[0;34m,\u001b[0m \u001b[0mABCSeries\u001b[0m\u001b[0;34m)\u001b[0m\u001b[0;34m:\u001b[0m\u001b[0;34m\u001b[0m\u001b[0;34m\u001b[0m\u001b[0m\n\u001b[1;32m   1083\u001b[0m                     \u001b[0;31m# If we have a view on v, we need to make a copy because\u001b[0m\u001b[0;34m\u001b[0m\u001b[0;34m\u001b[0m\u001b[0m\n",
            "\u001b[0;32m<ipython-input-38-7253f0eda7e7>\u001b[0m in \u001b[0;36m<lambda>\u001b[0;34m(row)\u001b[0m\n\u001b[1;32m      1\u001b[0m \u001b[0;31m# 각 오피스텔에 대해 CCTV 개수 계산\u001b[0m\u001b[0;34m\u001b[0m\u001b[0;34m\u001b[0m\u001b[0m\n\u001b[0;32m----> 2\u001b[0;31m \u001b[0mofficetel\u001b[0m\u001b[0;34m[\u001b[0m\u001b[0;34m'cctv_count'\u001b[0m\u001b[0;34m]\u001b[0m \u001b[0;34m=\u001b[0m \u001b[0mofficetel\u001b[0m\u001b[0;34m.\u001b[0m\u001b[0mapply\u001b[0m\u001b[0;34m(\u001b[0m\u001b[0;32mlambda\u001b[0m \u001b[0mrow\u001b[0m\u001b[0;34m:\u001b[0m \u001b[0mcount_cctvs_within_radius\u001b[0m\u001b[0;34m(\u001b[0m\u001b[0mrow\u001b[0m\u001b[0;34m,\u001b[0m \u001b[0mcctv\u001b[0m\u001b[0;34m)\u001b[0m\u001b[0;34m,\u001b[0m \u001b[0maxis\u001b[0m\u001b[0;34m=\u001b[0m\u001b[0;36m1\u001b[0m\u001b[0;34m)\u001b[0m\u001b[0;34m\u001b[0m\u001b[0;34m\u001b[0m\u001b[0m\n\u001b[0m\u001b[1;32m      3\u001b[0m \u001b[0;34m\u001b[0m\u001b[0m\n\u001b[1;32m      4\u001b[0m \u001b[0mprint\u001b[0m\u001b[0;34m(\u001b[0m\u001b[0mofficetel\u001b[0m\u001b[0;34m)\u001b[0m\u001b[0;34m\u001b[0m\u001b[0;34m\u001b[0m\u001b[0m\n",
            "\u001b[0;32m<ipython-input-37-f462f9009b62>\u001b[0m in \u001b[0;36mcount_cctvs_within_radius\u001b[0;34m(officetel_row, cctvs, radius)\u001b[0m\n\u001b[1;32m      5\u001b[0m     \u001b[0;32mfor\u001b[0m \u001b[0m_\u001b[0m\u001b[0;34m,\u001b[0m \u001b[0mcctv_row\u001b[0m \u001b[0;32min\u001b[0m \u001b[0mcctvs\u001b[0m\u001b[0;34m.\u001b[0m\u001b[0miterrows\u001b[0m\u001b[0;34m(\u001b[0m\u001b[0;34m)\u001b[0m\u001b[0;34m:\u001b[0m\u001b[0;34m\u001b[0m\u001b[0;34m\u001b[0m\u001b[0m\n\u001b[1;32m      6\u001b[0m         \u001b[0mcctv_location\u001b[0m \u001b[0;34m=\u001b[0m \u001b[0;34m(\u001b[0m\u001b[0mcctv_row\u001b[0m\u001b[0;34m[\u001b[0m\u001b[0;34m'위도'\u001b[0m\u001b[0;34m]\u001b[0m\u001b[0;34m,\u001b[0m \u001b[0mcctv_row\u001b[0m\u001b[0;34m[\u001b[0m\u001b[0;34m'경도'\u001b[0m\u001b[0;34m]\u001b[0m\u001b[0;34m)\u001b[0m\u001b[0;34m\u001b[0m\u001b[0;34m\u001b[0m\u001b[0m\n\u001b[0;32m----> 7\u001b[0;31m         \u001b[0mdistance\u001b[0m \u001b[0;34m=\u001b[0m \u001b[0mgeodesic\u001b[0m\u001b[0;34m(\u001b[0m\u001b[0mofficetel_location\u001b[0m\u001b[0;34m,\u001b[0m \u001b[0mcctv_location\u001b[0m\u001b[0;34m)\u001b[0m\u001b[0;34m.\u001b[0m\u001b[0mmeters\u001b[0m\u001b[0;34m\u001b[0m\u001b[0;34m\u001b[0m\u001b[0m\n\u001b[0m\u001b[1;32m      8\u001b[0m         \u001b[0;32mif\u001b[0m \u001b[0mdistance\u001b[0m \u001b[0;34m<=\u001b[0m \u001b[0mradius\u001b[0m\u001b[0;34m:\u001b[0m\u001b[0;34m\u001b[0m\u001b[0;34m\u001b[0m\u001b[0m\n\u001b[1;32m      9\u001b[0m             \u001b[0mcount\u001b[0m \u001b[0;34m+=\u001b[0m \u001b[0;36m1\u001b[0m\u001b[0;34m\u001b[0m\u001b[0;34m\u001b[0m\u001b[0m\n",
            "\u001b[0;32m/usr/local/lib/python3.10/dist-packages/geopy/distance.py\u001b[0m in \u001b[0;36m__init__\u001b[0;34m(self, *args, **kwargs)\u001b[0m\n\u001b[1;32m    538\u001b[0m         \u001b[0mself\u001b[0m\u001b[0;34m.\u001b[0m\u001b[0mset_ellipsoid\u001b[0m\u001b[0;34m(\u001b[0m\u001b[0mkwargs\u001b[0m\u001b[0;34m.\u001b[0m\u001b[0mpop\u001b[0m\u001b[0;34m(\u001b[0m\u001b[0;34m'ellipsoid'\u001b[0m\u001b[0;34m,\u001b[0m \u001b[0;34m'WGS-84'\u001b[0m\u001b[0;34m)\u001b[0m\u001b[0;34m)\u001b[0m\u001b[0;34m\u001b[0m\u001b[0;34m\u001b[0m\u001b[0m\n\u001b[1;32m    539\u001b[0m         \u001b[0mmajor\u001b[0m\u001b[0;34m,\u001b[0m \u001b[0mminor\u001b[0m\u001b[0;34m,\u001b[0m \u001b[0mf\u001b[0m \u001b[0;34m=\u001b[0m \u001b[0mself\u001b[0m\u001b[0;34m.\u001b[0m\u001b[0mELLIPSOID\u001b[0m\u001b[0;34m\u001b[0m\u001b[0;34m\u001b[0m\u001b[0m\n\u001b[0;32m--> 540\u001b[0;31m         \u001b[0msuper\u001b[0m\u001b[0;34m(\u001b[0m\u001b[0;34m)\u001b[0m\u001b[0;34m.\u001b[0m\u001b[0m__init__\u001b[0m\u001b[0;34m(\u001b[0m\u001b[0;34m*\u001b[0m\u001b[0margs\u001b[0m\u001b[0;34m,\u001b[0m \u001b[0;34m**\u001b[0m\u001b[0mkwargs\u001b[0m\u001b[0;34m)\u001b[0m\u001b[0;34m\u001b[0m\u001b[0;34m\u001b[0m\u001b[0m\n\u001b[0m\u001b[1;32m    541\u001b[0m \u001b[0;34m\u001b[0m\u001b[0m\n\u001b[1;32m    542\u001b[0m     \u001b[0;32mdef\u001b[0m \u001b[0mset_ellipsoid\u001b[0m\u001b[0;34m(\u001b[0m\u001b[0mself\u001b[0m\u001b[0;34m,\u001b[0m \u001b[0mellipsoid\u001b[0m\u001b[0;34m)\u001b[0m\u001b[0;34m:\u001b[0m\u001b[0;34m\u001b[0m\u001b[0;34m\u001b[0m\u001b[0m\n",
            "\u001b[0;32m/usr/local/lib/python3.10/dist-packages/geopy/distance.py\u001b[0m in \u001b[0;36m__init__\u001b[0;34m(self, *args, **kwargs)\u001b[0m\n\u001b[1;32m    274\u001b[0m         \u001b[0;32melif\u001b[0m \u001b[0mlen\u001b[0m\u001b[0;34m(\u001b[0m\u001b[0margs\u001b[0m\u001b[0;34m)\u001b[0m \u001b[0;34m>\u001b[0m \u001b[0;36m1\u001b[0m\u001b[0;34m:\u001b[0m\u001b[0;34m\u001b[0m\u001b[0;34m\u001b[0m\u001b[0m\n\u001b[1;32m    275\u001b[0m             \u001b[0;32mfor\u001b[0m \u001b[0ma\u001b[0m\u001b[0;34m,\u001b[0m \u001b[0mb\u001b[0m \u001b[0;32min\u001b[0m \u001b[0mutil\u001b[0m\u001b[0;34m.\u001b[0m\u001b[0mpairwise\u001b[0m\u001b[0;34m(\u001b[0m\u001b[0margs\u001b[0m\u001b[0;34m)\u001b[0m\u001b[0;34m:\u001b[0m\u001b[0;34m\u001b[0m\u001b[0;34m\u001b[0m\u001b[0m\n\u001b[0;32m--> 276\u001b[0;31m                 \u001b[0mkilometers\u001b[0m \u001b[0;34m+=\u001b[0m \u001b[0mself\u001b[0m\u001b[0;34m.\u001b[0m\u001b[0mmeasure\u001b[0m\u001b[0;34m(\u001b[0m\u001b[0ma\u001b[0m\u001b[0;34m,\u001b[0m \u001b[0mb\u001b[0m\u001b[0;34m)\u001b[0m\u001b[0;34m\u001b[0m\u001b[0;34m\u001b[0m\u001b[0m\n\u001b[0m\u001b[1;32m    277\u001b[0m \u001b[0;34m\u001b[0m\u001b[0m\n\u001b[1;32m    278\u001b[0m         \u001b[0mkilometers\u001b[0m \u001b[0;34m+=\u001b[0m \u001b[0munits\u001b[0m\u001b[0;34m.\u001b[0m\u001b[0mkilometers\u001b[0m\u001b[0;34m(\u001b[0m\u001b[0;34m**\u001b[0m\u001b[0mkwargs\u001b[0m\u001b[0;34m)\u001b[0m\u001b[0;34m\u001b[0m\u001b[0;34m\u001b[0m\u001b[0m\n",
            "\u001b[0;32m/usr/local/lib/python3.10/dist-packages/geopy/distance.py\u001b[0m in \u001b[0;36mmeasure\u001b[0;34m(self, a, b)\u001b[0m\n\u001b[1;32m    564\u001b[0m             \u001b[0mself\u001b[0m\u001b[0;34m.\u001b[0m\u001b[0mgeod\u001b[0m \u001b[0;34m=\u001b[0m \u001b[0mGeodesic\u001b[0m\u001b[0;34m(\u001b[0m\u001b[0mself\u001b[0m\u001b[0;34m.\u001b[0m\u001b[0mELLIPSOID\u001b[0m\u001b[0;34m[\u001b[0m\u001b[0;36m0\u001b[0m\u001b[0;34m]\u001b[0m\u001b[0;34m,\u001b[0m \u001b[0mself\u001b[0m\u001b[0;34m.\u001b[0m\u001b[0mELLIPSOID\u001b[0m\u001b[0;34m[\u001b[0m\u001b[0;36m2\u001b[0m\u001b[0;34m]\u001b[0m\u001b[0;34m)\u001b[0m\u001b[0;34m\u001b[0m\u001b[0;34m\u001b[0m\u001b[0m\n\u001b[1;32m    565\u001b[0m \u001b[0;34m\u001b[0m\u001b[0m\n\u001b[0;32m--> 566\u001b[0;31m         s12 = self.geod.Inverse(lat1, lon1, lat2, lon2,\n\u001b[0m\u001b[1;32m    567\u001b[0m                                 Geodesic.DISTANCE)['s12']\n\u001b[1;32m    568\u001b[0m \u001b[0;34m\u001b[0m\u001b[0m\n",
            "\u001b[0;32m/usr/local/lib/python3.10/dist-packages/geographiclib/geodesic.py\u001b[0m in \u001b[0;36mInverse\u001b[0;34m(self, lat1, lon1, lat2, lon2, outmask)\u001b[0m\n\u001b[1;32m   1043\u001b[0m     \u001b[0mresult\u001b[0m\u001b[0;34m[\u001b[0m\u001b[0;34m'a12'\u001b[0m\u001b[0;34m]\u001b[0m \u001b[0;34m=\u001b[0m \u001b[0ma12\u001b[0m\u001b[0;34m\u001b[0m\u001b[0;34m\u001b[0m\u001b[0m\n\u001b[1;32m   1044\u001b[0m     \u001b[0;32mif\u001b[0m \u001b[0moutmask\u001b[0m \u001b[0;34m&\u001b[0m \u001b[0mGeodesic\u001b[0m\u001b[0;34m.\u001b[0m\u001b[0mDISTANCE\u001b[0m\u001b[0;34m:\u001b[0m \u001b[0mresult\u001b[0m\u001b[0;34m[\u001b[0m\u001b[0;34m's12'\u001b[0m\u001b[0;34m]\u001b[0m \u001b[0;34m=\u001b[0m \u001b[0ms12\u001b[0m\u001b[0;34m\u001b[0m\u001b[0;34m\u001b[0m\u001b[0m\n\u001b[0;32m-> 1045\u001b[0;31m     \u001b[0;32mif\u001b[0m \u001b[0moutmask\u001b[0m \u001b[0;34m&\u001b[0m \u001b[0mGeodesic\u001b[0m\u001b[0;34m.\u001b[0m\u001b[0mAZIMUTH\u001b[0m\u001b[0;34m:\u001b[0m\u001b[0;34m\u001b[0m\u001b[0;34m\u001b[0m\u001b[0m\n\u001b[0m\u001b[1;32m   1046\u001b[0m       \u001b[0mresult\u001b[0m\u001b[0;34m[\u001b[0m\u001b[0;34m'azi1'\u001b[0m\u001b[0;34m]\u001b[0m \u001b[0;34m=\u001b[0m \u001b[0mMath\u001b[0m\u001b[0;34m.\u001b[0m\u001b[0matan2d\u001b[0m\u001b[0;34m(\u001b[0m\u001b[0msalp1\u001b[0m\u001b[0;34m,\u001b[0m \u001b[0mcalp1\u001b[0m\u001b[0;34m)\u001b[0m\u001b[0;34m\u001b[0m\u001b[0;34m\u001b[0m\u001b[0m\n\u001b[1;32m   1047\u001b[0m       \u001b[0mresult\u001b[0m\u001b[0;34m[\u001b[0m\u001b[0;34m'azi2'\u001b[0m\u001b[0;34m]\u001b[0m \u001b[0;34m=\u001b[0m \u001b[0mMath\u001b[0m\u001b[0;34m.\u001b[0m\u001b[0matan2d\u001b[0m\u001b[0;34m(\u001b[0m\u001b[0msalp2\u001b[0m\u001b[0;34m,\u001b[0m \u001b[0mcalp2\u001b[0m\u001b[0;34m)\u001b[0m\u001b[0;34m\u001b[0m\u001b[0;34m\u001b[0m\u001b[0m\n",
            "\u001b[0;31mKeyboardInterrupt\u001b[0m: "
          ]
        }
      ]
    },
    {
      "cell_type": "code",
      "source": [
        "# 반경 50m 이내의 버스정류장 개수 계산 함수\n",
        "def count_bus_within_radius(officetel_row, bus, radius=50):\n",
        "    officetel_location = (officetel_row['위도'], officetel_row['경도'])\n",
        "    count = 0\n",
        "    for _, bus_row in bus.iterrows():\n",
        "        bus_location = (bus_row['위도'], bus_row['경도'])\n",
        "        distance = geodesic(officetel_location, bus_location).meters\n",
        "        if distance <= radius:\n",
        "            count += 1\n",
        "    return count"
      ],
      "metadata": {
        "id": "9j9ivVwX7Bqh"
      },
      "execution_count": 39,
      "outputs": []
    },
    {
      "cell_type": "code",
      "source": [
        "# 각 오피스텔에 대해 버스정류장 개수 계산\n",
        "officetel['bus_count'] = officetel.apply(lambda row: count_bus_within_radius(row, bus), axis=1)\n",
        "\n",
        "print(officetel)"
      ],
      "metadata": {
        "colab": {
          "base_uri": "https://localhost:8080/"
        },
        "id": "bVVeikbW7rnF",
        "outputId": "506f7306-0b07-4685-9fa2-cf09ef3c0a86"
      },
      "execution_count": 40,
      "outputs": [
        {
          "output_type": "stream",
          "name": "stdout",
          "text": [
            "      NO           단지명          도로명                    지번주소         위도  \\\n",
            "0      0        광진청년생활    동일로30길 31     서울특별시 광진구 화양동 18-12  37.547678   \n",
            "1      1  청량리 창보 리버리치2      왕산로 192    서울특별시 동대문구 전농동 620-4  37.579581   \n",
            "2      2     블루카운티 숭인Ⅰ     종로62길 23    서울특별시 종로구 숭인동 217-16  37.572843   \n",
            "3      3          BS타워     종로35길 12     서울특별시 종로구 효제동 193-1  37.571758   \n",
            "4      4     성원상떼뷰오피스텔   아차산로15길 10  서울특별시 성동구 성수동2가 277-37  37.543696   \n",
            "..   ...           ...          ...                     ...        ...   \n",
            "96    96   제이클래스목동주상복합      오목로 147     서울특별시 양천구 신정동 922-1  37.524976   \n",
            "97    97   마곡보타닉투웨니퍼스트    양천로47길 12     서울특별시 강서구 가양동 257-1  37.571021   \n",
            "98    98       강동 와이시티  천호대로175길 42      서울특별시 강동구 길동 414-4  37.536490   \n",
            "99    99       에스아이팰리스   진황도로27길 23    서울특별시 강동구 천호동 167-73  37.539485   \n",
            "100  100           비바체   올림픽로62길 29      서울특별시 강동구 성내동 43-6  37.536568   \n",
            "\n",
            "             경도  bus_count  \n",
            "0    127.069085          0  \n",
            "1    127.044612          0  \n",
            "2    127.019649          0  \n",
            "3    127.004086          0  \n",
            "4    127.062516          0  \n",
            "..          ...        ...  \n",
            "96   126.853632          0  \n",
            "97   126.838334          0  \n",
            "98   127.137446          0  \n",
            "99   127.131830          0  \n",
            "100  127.124520          0  \n",
            "\n",
            "[101 rows x 7 columns]\n"
          ]
        }
      ]
    },
    {
      "cell_type": "code",
      "source": [
        "officetel.to_csv('오피스텔 매물_버스 추가.csv', index=False, encoding='utf-8-sig')"
      ],
      "metadata": {
        "id": "NgeuoDlTBPCu"
      },
      "execution_count": 41,
      "outputs": []
    },
    {
      "cell_type": "code",
      "source": [
        "# 반경 50m 이내의 가로등 개수 계산 함수\n",
        "def count_light_within_radius(officetel_row, light, radius=50):\n",
        "    officetel_location = (officetel_row['위도'], officetel_row['경도'])\n",
        "    count = 0\n",
        "    for _, light_row in light.iterrows():\n",
        "        light_location = (light_row['위도'], light_row['경도'])\n",
        "        distance = geodesic(officetel_location, light_location).meters\n",
        "        if distance <= radius:\n",
        "            count += 1\n",
        "    return count"
      ],
      "metadata": {
        "id": "gHr9fguh8kV7"
      },
      "execution_count": 42,
      "outputs": []
    },
    {
      "cell_type": "code",
      "source": [
        "# 각 오피스텔에 대해 가로등 개수 계산\n",
        "officetel['light_count'] = officetel.apply(lambda row: count_light_within_radius(row, light), axis=1)\n",
        "\n",
        "print(officetel)"
      ],
      "metadata": {
        "colab": {
          "base_uri": "https://localhost:8080/"
        },
        "id": "g_fD6I2G8yhk",
        "outputId": "1bb17f46-2a87-46c2-caae-53d1cd3c75d0"
      },
      "execution_count": 43,
      "outputs": [
        {
          "output_type": "stream",
          "name": "stdout",
          "text": [
            "      NO           단지명          도로명                    지번주소         위도  \\\n",
            "0      0        광진청년생활    동일로30길 31     서울특별시 광진구 화양동 18-12  37.547678   \n",
            "1      1  청량리 창보 리버리치2      왕산로 192    서울특별시 동대문구 전농동 620-4  37.579581   \n",
            "2      2     블루카운티 숭인Ⅰ     종로62길 23    서울특별시 종로구 숭인동 217-16  37.572843   \n",
            "3      3          BS타워     종로35길 12     서울특별시 종로구 효제동 193-1  37.571758   \n",
            "4      4     성원상떼뷰오피스텔   아차산로15길 10  서울특별시 성동구 성수동2가 277-37  37.543696   \n",
            "..   ...           ...          ...                     ...        ...   \n",
            "96    96   제이클래스목동주상복합      오목로 147     서울특별시 양천구 신정동 922-1  37.524976   \n",
            "97    97   마곡보타닉투웨니퍼스트    양천로47길 12     서울특별시 강서구 가양동 257-1  37.571021   \n",
            "98    98       강동 와이시티  천호대로175길 42      서울특별시 강동구 길동 414-4  37.536490   \n",
            "99    99       에스아이팰리스   진황도로27길 23    서울특별시 강동구 천호동 167-73  37.539485   \n",
            "100  100           비바체   올림픽로62길 29      서울특별시 강동구 성내동 43-6  37.536568   \n",
            "\n",
            "             경도  bus_count  light_count  \n",
            "0    127.069085          0            0  \n",
            "1    127.044612          0            0  \n",
            "2    127.019649          0            0  \n",
            "3    127.004086          0            0  \n",
            "4    127.062516          0            0  \n",
            "..          ...        ...          ...  \n",
            "96   126.853632          0            0  \n",
            "97   126.838334          0            0  \n",
            "98   127.137446          0            0  \n",
            "99   127.131830          0            0  \n",
            "100  127.124520          0            0  \n",
            "\n",
            "[101 rows x 8 columns]\n"
          ]
        }
      ]
    },
    {
      "cell_type": "code",
      "source": [
        "# 반경 50m 이내의 초중등학교 개수 계산 함수\n",
        "def count_school_within_radius(officetel_row, school, radius=50):\n",
        "    officetel_location = (officetel_row['위도'], officetel_row['경도'])\n",
        "    count = 0\n",
        "    for _, school_row in school.iterrows():\n",
        "        school_location = (school_row['위도'], school_row['경도'])\n",
        "        distance = geodesic(officetel_location, school_location).meters\n",
        "        if distance <= radius:\n",
        "            count += 1\n",
        "    return count"
      ],
      "metadata": {
        "id": "sZnkm9ym87ar"
      },
      "execution_count": 44,
      "outputs": []
    },
    {
      "cell_type": "code",
      "source": [
        "# 각 오피스텔에 대해 초중등학교 개수 계산\n",
        "officetel['school_count'] = officetel.apply(lambda row: count_school_within_radius(row, school), axis=1)\n",
        "\n",
        "print(officetel)"
      ],
      "metadata": {
        "colab": {
          "base_uri": "https://localhost:8080/"
        },
        "id": "CWlm2QSs9NMT",
        "outputId": "ee96f270-35c4-4d96-d4fa-3d8a0f551a53"
      },
      "execution_count": 45,
      "outputs": [
        {
          "output_type": "stream",
          "name": "stdout",
          "text": [
            "      NO           단지명          도로명                    지번주소         위도  \\\n",
            "0      0        광진청년생활    동일로30길 31     서울특별시 광진구 화양동 18-12  37.547678   \n",
            "1      1  청량리 창보 리버리치2      왕산로 192    서울특별시 동대문구 전농동 620-4  37.579581   \n",
            "2      2     블루카운티 숭인Ⅰ     종로62길 23    서울특별시 종로구 숭인동 217-16  37.572843   \n",
            "3      3          BS타워     종로35길 12     서울특별시 종로구 효제동 193-1  37.571758   \n",
            "4      4     성원상떼뷰오피스텔   아차산로15길 10  서울특별시 성동구 성수동2가 277-37  37.543696   \n",
            "..   ...           ...          ...                     ...        ...   \n",
            "96    96   제이클래스목동주상복합      오목로 147     서울특별시 양천구 신정동 922-1  37.524976   \n",
            "97    97   마곡보타닉투웨니퍼스트    양천로47길 12     서울특별시 강서구 가양동 257-1  37.571021   \n",
            "98    98       강동 와이시티  천호대로175길 42      서울특별시 강동구 길동 414-4  37.536490   \n",
            "99    99       에스아이팰리스   진황도로27길 23    서울특별시 강동구 천호동 167-73  37.539485   \n",
            "100  100           비바체   올림픽로62길 29      서울특별시 강동구 성내동 43-6  37.536568   \n",
            "\n",
            "             경도  bus_count  light_count  school_count  \n",
            "0    127.069085          0            0             0  \n",
            "1    127.044612          0            0             0  \n",
            "2    127.019649          0            0             0  \n",
            "3    127.004086          0            0             0  \n",
            "4    127.062516          0            0             0  \n",
            "..          ...        ...          ...           ...  \n",
            "96   126.853632          0            0             0  \n",
            "97   126.838334          0            0             0  \n",
            "98   127.137446          0            0             0  \n",
            "99   127.131830          0            0             0  \n",
            "100  127.124520          0            0             0  \n",
            "\n",
            "[101 rows x 9 columns]\n"
          ]
        }
      ]
    },
    {
      "cell_type": "code",
      "source": [
        "officetel.to_csv('오피스텔 매물_추가.csv', index=False, encoding='utf-8-sig')"
      ],
      "metadata": {
        "id": "YkJZCx81FIM7"
      },
      "execution_count": 46,
      "outputs": []
    }
  ]
}